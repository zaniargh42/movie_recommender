{
 "cells": [
  {
   "cell_type": "code",
   "execution_count": 1,
   "metadata": {},
   "outputs": [],
   "source": [
    "import pandas as pd"
   ]
  },
  {
   "cell_type": "code",
   "execution_count": 2,
   "metadata": {},
   "outputs": [],
   "source": [
    "import tkinter"
   ]
  },
  {
   "cell_type": "code",
   "execution_count": 3,
   "metadata": {},
   "outputs": [],
   "source": [
    "import tkinter as tk\n",
    "\n",
    "def _welcome_page():    \n",
    "    survy=tk.Tk()\n",
    "    survy.title('welcome')\n",
    "    survy.geometry('725x450+270+70')\n",
    "    survy.resizable(False,False)\n",
    "    survy.configure(bg='#becda6') \n",
    "    tk.Label(text='welcome and thank you to take time and fill the following survy').place(x=100,y=100)\n",
    "    tk.Label(text='tell me your gender:').place(x=100,y=100)\n",
    "    tk.Label(text='now pick up yout age:').place(x=100,y=200)\n",
    "    tk.Label(text=\"what's your favorite situation to watch a movie?\").place(x=100,y=300)\n",
    "    tk.Label(text='mark your favorite generes: ').place(x=100,y=400)\n",
    "    tk.Label(text='mark your most hated generes: ').place(x=100,y=500)\n",
    "    survy.mainloop()\n",
    "\n",
    "_welcome_page()"
   ]
  },
  {
   "cell_type": "code",
   "execution_count": null,
   "metadata": {},
   "outputs": [],
   "source": []
  }
 ],
 "metadata": {
  "kernelspec": {
   "display_name": "Python 3.10.4 64-bit",
   "language": "python",
   "name": "python3"
  },
  "language_info": {
   "codemirror_mode": {
    "name": "ipython",
    "version": 3
   },
   "file_extension": ".py",
   "mimetype": "text/x-python",
   "name": "python",
   "nbconvert_exporter": "python",
   "pygments_lexer": "ipython3",
   "version": "3.10.4"
  },
  "orig_nbformat": 4,
  "vscode": {
   "interpreter": {
    "hash": "916dbcbb3f70747c44a77c7bcd40155683ae19c65e1c03b4aa3499c5328201f1"
   }
  }
 },
 "nbformat": 4,
 "nbformat_minor": 2
}
